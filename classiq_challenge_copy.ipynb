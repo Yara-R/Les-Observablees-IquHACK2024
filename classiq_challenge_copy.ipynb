{
  "cells": [
    {
      "cell_type": "markdown",
      "metadata": {
        "id": "AqMM7n0FcDTB"
      },
      "source": [
        "# Classiq Challenge - Quantum Arithmetics"
      ]
    },
    {
      "cell_type": "markdown",
      "metadata": {
        "id": "gX0lAgdacDTG"
      },
      "source": [
        "Welcome to the Classiq challenge of the 2024 MIT IQuHack hackathon!\n",
        "This Jupyter notebook is the framework for the challenge and you should follow it in order to solve it using Classiq (alongside the guidelines of the challenge).\n",
        "\n",
        "The notebook has 3 parts:\n",
        "1. A warm up session, just to get up to speed with a small example of Classiq\n",
        "2. The challenge itself, including what you need to create, what's the format, and how you can check yourself\n",
        "3. A cheat sheet with relevant Classiq functions declarations\n",
        "\n",
        "Additional resources you should use are\n",
        "- The IDE of the classiq platform at [platform.classiq.io](platform.classiq.io)\n",
        "- The [community Slack of Classiq](https://short.classiq.io/join-slack) - Classiq's team will answer any question you have over there, including implementation questions\n",
        "- [Classiq's documentation](https://docs.classiq.io/latest/user-guide/platform/) with the dedicated [Python SDK explanations](https://docs.classiq.io/latest/user-guide/platform/qmod/python/functions/)\n",
        "\n",
        "Good luck!"
      ]
    },
    {
      "cell_type": "markdown",
      "metadata": {
        "id": "zyx74P_2cDTH"
      },
      "source": [
        "![MITClassiq](data:image/png;base64,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)"
      ]
    },
    {
      "cell_type": "code",
      "source": [
        "!pip install -U classiq\n",
        "\n",
        "import classiq\n",
        "classiq.authenticate()\n"
      ],
      "metadata": {
        "colab": {
          "base_uri": "https://localhost:8080/"
        },
        "id": "r5vtJo7sco5Y",
        "outputId": "3a71d40a-799e-47dd-80bd-622ecc2a1c77"
      },
      "execution_count": 9,
      "outputs": [
        {
          "output_type": "stream",
          "name": "stdout",
          "text": [
            "Requirement already satisfied: classiq in /usr/local/lib/python3.10/dist-packages (0.36.1)\n",
            "Requirement already satisfied: ConfigArgParse<2.0.0,>=1.5.3 in /usr/local/lib/python3.10/dist-packages (from classiq) (1.7)\n",
            "Requirement already satisfied: Pyomo<6.6,>=6.5 in /usr/local/lib/python3.10/dist-packages (from classiq) (6.5.0)\n",
            "Requirement already satisfied: httpx<1,>=0.23.0 in /usr/local/lib/python3.10/dist-packages (from classiq) (0.26.0)\n",
            "Requirement already satisfied: keyring<24.0.0,>=23.5.0 in /usr/lib/python3/dist-packages (from classiq) (23.5.0)\n",
            "Requirement already satisfied: matplotlib<4.0.0,>=3.4.3 in /usr/local/lib/python3.10/dist-packages (from classiq) (3.7.1)\n",
            "Requirement already satisfied: networkx<3.0.0,>=2.5.1 in /usr/local/lib/python3.10/dist-packages (from classiq) (2.8.8)\n",
            "Requirement already satisfied: numexpr<3.0.0,>=2.7.3 in /usr/local/lib/python3.10/dist-packages (from classiq) (2.9.0)\n",
            "Requirement already satisfied: numpy<2.0.0,>=1.20.1 in /usr/local/lib/python3.10/dist-packages (from classiq) (1.23.5)\n",
            "Requirement already satisfied: packaging<22.0,>=21.3 in /usr/local/lib/python3.10/dist-packages (from classiq) (21.3)\n",
            "Requirement already satisfied: pandas<2.0.0,>=1.4.0 in /usr/local/lib/python3.10/dist-packages (from classiq) (1.5.3)\n",
            "Requirement already satisfied: plotly<6.0.0,>=5.7.0 in /usr/local/lib/python3.10/dist-packages (from classiq) (5.15.0)\n",
            "Requirement already satisfied: pydantic<2.0.0,>=1.9.1 in /usr/local/lib/python3.10/dist-packages (from classiq) (1.10.14)\n",
            "Requirement already satisfied: sympy<1.11.0,>=1.9.0 in /usr/local/lib/python3.10/dist-packages (from classiq) (1.10.1)\n",
            "Requirement already satisfied: tabulate<1,>=0.8.9 in /usr/local/lib/python3.10/dist-packages (from classiq) (0.9.0)\n",
            "Requirement already satisfied: anyio in /usr/local/lib/python3.10/dist-packages (from httpx<1,>=0.23.0->classiq) (3.7.1)\n",
            "Requirement already satisfied: certifi in /usr/local/lib/python3.10/dist-packages (from httpx<1,>=0.23.0->classiq) (2023.11.17)\n",
            "Requirement already satisfied: httpcore==1.* in /usr/local/lib/python3.10/dist-packages (from httpx<1,>=0.23.0->classiq) (1.0.2)\n",
            "Requirement already satisfied: idna in /usr/local/lib/python3.10/dist-packages (from httpx<1,>=0.23.0->classiq) (3.6)\n",
            "Requirement already satisfied: sniffio in /usr/local/lib/python3.10/dist-packages (from httpx<1,>=0.23.0->classiq) (1.3.0)\n",
            "Requirement already satisfied: h11<0.15,>=0.13 in /usr/local/lib/python3.10/dist-packages (from httpcore==1.*->httpx<1,>=0.23.0->classiq) (0.14.0)\n",
            "Requirement already satisfied: contourpy>=1.0.1 in /usr/local/lib/python3.10/dist-packages (from matplotlib<4.0.0,>=3.4.3->classiq) (1.2.0)\n",
            "Requirement already satisfied: cycler>=0.10 in /usr/local/lib/python3.10/dist-packages (from matplotlib<4.0.0,>=3.4.3->classiq) (0.12.1)\n",
            "Requirement already satisfied: fonttools>=4.22.0 in /usr/local/lib/python3.10/dist-packages (from matplotlib<4.0.0,>=3.4.3->classiq) (4.47.2)\n",
            "Requirement already satisfied: kiwisolver>=1.0.1 in /usr/local/lib/python3.10/dist-packages (from matplotlib<4.0.0,>=3.4.3->classiq) (1.4.5)\n",
            "Requirement already satisfied: pillow>=6.2.0 in /usr/local/lib/python3.10/dist-packages (from matplotlib<4.0.0,>=3.4.3->classiq) (9.4.0)\n",
            "Requirement already satisfied: pyparsing>=2.3.1 in /usr/local/lib/python3.10/dist-packages (from matplotlib<4.0.0,>=3.4.3->classiq) (3.1.1)\n",
            "Requirement already satisfied: python-dateutil>=2.7 in /usr/local/lib/python3.10/dist-packages (from matplotlib<4.0.0,>=3.4.3->classiq) (2.8.2)\n",
            "Requirement already satisfied: pytz>=2020.1 in /usr/local/lib/python3.10/dist-packages (from pandas<2.0.0,>=1.4.0->classiq) (2023.4)\n",
            "Requirement already satisfied: tenacity>=6.2.0 in /usr/local/lib/python3.10/dist-packages (from plotly<6.0.0,>=5.7.0->classiq) (8.2.3)\n",
            "Requirement already satisfied: typing-extensions>=4.2.0 in /usr/local/lib/python3.10/dist-packages (from pydantic<2.0.0,>=1.9.1->classiq) (4.5.0)\n",
            "Requirement already satisfied: ply in /usr/local/lib/python3.10/dist-packages (from Pyomo<6.6,>=6.5->classiq) (3.11)\n",
            "Requirement already satisfied: mpmath>=0.19 in /usr/local/lib/python3.10/dist-packages (from sympy<1.11.0,>=1.9.0->classiq) (1.3.0)\n",
            "Requirement already satisfied: six>=1.5 in /usr/local/lib/python3.10/dist-packages (from python-dateutil>=2.7->matplotlib<4.0.0,>=3.4.3->classiq) (1.16.0)\n",
            "Requirement already satisfied: exceptiongroup in /usr/local/lib/python3.10/dist-packages (from anyio->httpx<1,>=0.23.0->classiq) (1.2.0)\n"
          ]
        },
        {
          "output_type": "stream",
          "name": "stderr",
          "text": [
            "/usr/local/lib/python3.10/dist-packages/classiq/_internals/authentication/token_manager.py:82: UserWarning: Device is already registered.\n",
            "Generating a new refresh token should only be done if the current refresh token is compromised.\n",
            "To do so, set the overwrite parameter to true\n",
            "  warnings.warn(\n"
          ]
        }
      ]
    },
    {
      "cell_type": "markdown",
      "metadata": {
        "id": "coZngu0McDTI"
      },
      "source": [
        "## Warm Up"
      ]
    },
    {
      "cell_type": "markdown",
      "metadata": {
        "id": "4cO9Y6arcDTI"
      },
      "source": [
        "Firstly, if you haven't done so far, you need to install the Classiq SDK package:"
      ]
    },
    {
      "cell_type": "markdown",
      "metadata": {
        "id": "GdsxexPtcDTI"
      },
      "source": [
        "and to authenticate your device against the Classiq backend:"
      ]
    },
    {
      "cell_type": "markdown",
      "metadata": {
        "id": "umvOmlY1cDTJ"
      },
      "source": [
        "Let's create a uniform superposition of numbers in the domain $[0,1)$ with equal spacing of $\\frac{1}{2^K}$ for $K=5$:"
      ]
    },
    {
      "cell_type": "code",
      "execution_count": 10,
      "metadata": {
        "colab": {
          "base_uri": "https://localhost:8080/"
        },
        "id": "fNNcjiQUcDTJ",
        "outputId": "46f1dfa0-7afc-458c-8835-de7d4e1e0c05"
      },
      "outputs": [
        {
          "output_type": "stream",
          "name": "stdout",
          "text": [
            "Opening: https://platform.classiq.io/circuit/1477d0ad-1b3a-441a-b9e0-a48efe6534e7?version=0.36.1\n"
          ]
        }
      ],
      "source": [
        "import classiq\n",
        "\n",
        "from classiq import *\n",
        "K =5\n",
        "\n",
        "@QFunc\n",
        "def main(x:Output[QNum]):\n",
        "    allocate_num(num_qubits=K, is_signed=False, fraction_digits=K,out=x)\n",
        "    hadamard_transform(x)\n",
        "\n",
        "quantum_model = create_model(main)\n",
        "quantum_program = synthesize(quantum_model)\n",
        "\n",
        "show(quantum_program) # view the circuit in the IDE\n",
        "\n",
        "job = execute(quantum_program)\n",
        "job.open_in_ide() # view the resulted histogram in the IDE"
      ]
    },
    {
      "cell_type": "markdown",
      "metadata": {
        "id": "tWQSXyNKcDTK"
      },
      "source": [
        "That's cool right? :)\n",
        "\n",
        "If you are more a Python person, this is how you can post-process your results:"
      ]
    },
    {
      "cell_type": "code",
      "execution_count": 11,
      "metadata": {
        "colab": {
          "base_uri": "https://localhost:8080/"
        },
        "id": "caTrBRBCcDTK",
        "outputId": "d40a7a1e-497c-4176-e182-4530cd9a78cd"
      },
      "outputs": [
        {
          "output_type": "stream",
          "name": "stdout",
          "text": [
            "State:  {'x': 0.0} | Shots:  78\n",
            "State:  {'x': 0.03125} | Shots:  53\n",
            "State:  {'x': 0.0625} | Shots:  63\n",
            "State:  {'x': 0.09375} | Shots:  74\n",
            "State:  {'x': 0.125} | Shots:  55\n",
            "State:  {'x': 0.15625} | Shots:  67\n",
            "State:  {'x': 0.1875} | Shots:  59\n",
            "State:  {'x': 0.21875} | Shots:  79\n",
            "State:  {'x': 0.25} | Shots:  66\n",
            "State:  {'x': 0.28125} | Shots:  76\n",
            "State:  {'x': 0.3125} | Shots:  61\n",
            "State:  {'x': 0.34375} | Shots:  71\n",
            "State:  {'x': 0.375} | Shots:  69\n",
            "State:  {'x': 0.40625} | Shots:  68\n",
            "State:  {'x': 0.4375} | Shots:  66\n",
            "State:  {'x': 0.46875} | Shots:  60\n",
            "State:  {'x': 0.5} | Shots:  66\n",
            "State:  {'x': 0.53125} | Shots:  55\n",
            "State:  {'x': 0.5625} | Shots:  64\n",
            "State:  {'x': 0.59375} | Shots:  67\n",
            "State:  {'x': 0.625} | Shots:  64\n",
            "State:  {'x': 0.65625} | Shots:  52\n",
            "State:  {'x': 0.6875} | Shots:  64\n",
            "State:  {'x': 0.71875} | Shots:  69\n",
            "State:  {'x': 0.75} | Shots:  63\n",
            "State:  {'x': 0.78125} | Shots:  57\n",
            "State:  {'x': 0.8125} | Shots:  66\n",
            "State:  {'x': 0.84375} | Shots:  60\n",
            "State:  {'x': 0.875} | Shots:  54\n",
            "State:  {'x': 0.90625} | Shots:  57\n",
            "State:  {'x': 0.9375} | Shots:  66\n",
            "State:  {'x': 0.96875} | Shots:  59\n"
          ]
        }
      ],
      "source": [
        "results = job.result()\n",
        "parsed_counts = results[0].value.parsed_counts\n",
        "sorted_counts = sorted(parsed_counts, key=lambda x: x.state[\"x\"])\n",
        "for state_counts in sorted_counts: print('State: ', state_counts.state, '| Shots: ', state_counts.shots)"
      ]
    },
    {
      "cell_type": "code",
      "execution_count": 12,
      "metadata": {
        "id": "CLNXSvJ5cDTL"
      },
      "outputs": [],
      "source": [
        "\n",
        "@QFunc\n",
        "def bitwise_XOR( x:QNum, x_control: QNum, precision: QParam[int]):\n",
        "    prepare_int(precision,x_control)\n",
        "    x_control_array = QArray(\"x_control_array\")\n",
        "    bind(x_control,x_control_array)\n",
        "\n",
        "    prepare_int(precision,x)\n",
        "    x_array = QArray(\"x_array\")\n",
        "    bind(x_array,x)\n",
        "\n",
        "    bol_out = (x_array[0] == x_control_array[0])\n",
        "    for i in range(1, x_array.len()):\n",
        "        if bol_out == 1:\n",
        "            return ~bol_out\n",
        "        bol_out = bol_out or (x_array[i] == x_control_array[i])\n",
        "    return ~bol_out"
      ]
    },
    {
      "cell_type": "markdown",
      "metadata": {
        "id": "E_gQGf2ocDTL"
      },
      "source": [
        "## The Challenge Itself"
      ]
    },
    {
      "cell_type": "markdown",
      "metadata": {
        "id": "jNSJG3_QcDTL"
      },
      "source": [
        "### Imports"
      ]
    },
    {
      "cell_type": "code",
      "execution_count": 13,
      "metadata": {
        "id": "VLmkPvPqcDTM"
      },
      "outputs": [],
      "source": [
        "# All the imports needed\n",
        "from classiq import *\n",
        "\n",
        "from classiq.interface.backend.backend_preferences import ClassiqBackendPreferences\n",
        "from classiq.interface.executor.execution_preferences import ExecutionPreferences\n",
        "from classiq.interface.model.model import Model as Model_Designer\n",
        "\n",
        "import numpy as np\n",
        "import json"
      ]
    },
    {
      "cell_type": "markdown",
      "metadata": {
        "id": "Ht4fHT1ZcDTM"
      },
      "source": [
        "### The Heart of the Code - Build Your Algorithm Here"
      ]
    },
    {
      "cell_type": "code",
      "execution_count": 14,
      "metadata": {
        "id": "yyTAhh3HcDTM"
      },
      "outputs": [],
      "source": [
        "@QFunc\n",
        "def linear_func(a:QParam[float],b: QParam[float], x:QNum, y: Output[QNum]):\n",
        "    y |= a*x+b\n",
        "\n",
        "def print_depth_width(quantum_program):\n",
        "    generated_circuit = GeneratedCircuit.parse_raw(quantum_program)\n",
        "    print(f\"Synthesized circuit width: {generated_circuit.data.width}, depth: {generated_circuit.transpiled_circuit.depth}\")\n",
        "\n",
        "@QFunc\n",
        "def inplace_linear_attempt(a:QParam[float],b: QParam[float], x:QNum, y: QNum):\n",
        "    tmp = QNum('tmp')\n",
        "    linear_func(a,b,x,tmp)\n",
        "    inplace_xor(tmp,y)\n",
        "\n",
        "@QFunc\n",
        "def inplace_linear_func(a:QParam[int],b: QParam[int], x:QNum, y: QNum):\n",
        "    tmp = QNum('tmp')\n",
        "    within_apply(compute= lambda: linear_func(a,b,x,tmp),\n",
        "                action= lambda: inplace_xor(tmp,y))\n",
        "\n",
        "@QFunc\n",
        "def control_logic(a: QParam[list[float]], b: QParam[list[float]], control_x: QNum, x: QNum, y: QNum):\n",
        "\n",
        "\n",
        "    repeat( count= a.len(),\n",
        "            iteration=lambda i: quantum_if(control_x == i, lambda: inplace_linear_func(a[i],b[i],x,y)))"
      ]
    },
    {
      "cell_type": "code",
      "execution_count": 26,
      "metadata": {
        "id": "NbrHrHpJcDTN"
      },
      "outputs": [],
      "source": [
        "@QFunc\n",
        "def compute_tanh(precision: QParam[int],    # The precision of x and tanh_x\n",
        "                 x: QNum,\n",
        "                 tanh_x: Output[QNum]       # The output of the function\n",
        "                 ):\n",
        "    x_array = QArray(\"x_array\")\n",
        "    bind(x, x_array)\n",
        "\n",
        "    control_x = QNum('control_x')\n",
        "    allocate_num(num_qubits=1,\n",
        "                is_signed=False,\n",
        "                fraction_digits=0,\n",
        "                out=control_x)\n",
        "\n",
        "    CX(x_array[x_array.len()-1],control_x)\n",
        "\n",
        "    allocate_num(precision, False, precision, tanh_x)\n",
        "\n",
        "    a = [0.9375, 0.5625]\n",
        "    b = [0.0, 0.1875]\n",
        "\n",
        "    bind(x_array,x)\n",
        "    control_logic(a,b,control_x, x, tanh_x)\n",
        ""
      ]
    },
    {
      "cell_type": "code",
      "execution_count": 27,
      "metadata": {
        "id": "N2w15Yt3cDTN"
      },
      "outputs": [],
      "source": [
        "precision = 6"
      ]
    },
    {
      "cell_type": "code",
      "execution_count": 28,
      "metadata": {
        "id": "OqKpWHYpcDTN"
      },
      "outputs": [],
      "source": [
        "## Working one\n",
        "@QFunc\n",
        "def main(x: Output[QNum],\n",
        "         y: Output[QNum]\n",
        "        ):\n",
        "\n",
        "    # A quantum variable which represents numbers is initialized\n",
        "    allocate_num(num_qubits=precision,\n",
        "                is_signed=False,\n",
        "                fraction_digits=precision,\n",
        "                out=x)\n",
        "\n",
        "    # Initalizing over all possible values of the quantum number with the hadamard transform\n",
        "    hadamard_transform(x)\n",
        "\n",
        "    # Computing your compute_tanh function\n",
        "    compute_tanh(precision,x,y)\n",
        "\n",
        "qmod = create_model(main)"
      ]
    },
    {
      "cell_type": "code",
      "execution_count": 29,
      "metadata": {
        "id": "GZcKbYz7cDTO"
      },
      "outputs": [],
      "source": [
        "quantum_program = synthesize(qmod)"
      ]
    },
    {
      "cell_type": "code",
      "execution_count": 30,
      "metadata": {
        "colab": {
          "base_uri": "https://localhost:8080/"
        },
        "id": "9hIKS2lGcDTO",
        "outputId": "f013b3b1-caf6-45fa-a982-176be1f04239"
      },
      "outputs": [
        {
          "output_type": "stream",
          "name": "stdout",
          "text": [
            "Synthesized circuit width: 33, depth: 411\n"
          ]
        }
      ],
      "source": [
        "print_depth_width(quantum_program)"
      ]
    },
    {
      "cell_type": "code",
      "execution_count": 31,
      "metadata": {
        "colab": {
          "base_uri": "https://localhost:8080/"
        },
        "id": "KBZt7dB1cDTO",
        "outputId": "944c61fd-fe2e-42de-d90c-c4cea74baa9c"
      },
      "outputs": [
        {
          "output_type": "stream",
          "name": "stdout",
          "text": [
            "Synthesized circuit width: 23, depth: 412\n"
          ]
        }
      ],
      "source": [
        "qmod = set_constraints(qmod,Constraints(optimization_parameter='width'))\n",
        "quantum_program = synthesize(qmod)\n",
        "print_depth_width(quantum_program)"
      ]
    },
    {
      "cell_type": "code",
      "execution_count": 32,
      "metadata": {
        "colab": {
          "base_uri": "https://localhost:8080/"
        },
        "id": "du7AQ7oncDTP",
        "outputId": "89ea8338-6311-42d6-f0ba-1a993e0b2b36"
      },
      "outputs": [
        {
          "output_type": "stream",
          "name": "stdout",
          "text": [
            "{'x': 0.796875, 'y': 0.625}\n",
            "{'x': 0.75, 'y': 0.609375}\n",
            "{'x': 0.28125, 'y': 0.25}\n",
            "{'x': 0.9375, 'y': 0.703125}\n",
            "{'x': 0.234375, 'y': 0.21875}\n",
            "{'x': 0.953125, 'y': 0.71875}\n",
            "{'x': 0.484375, 'y': 0.453125}\n",
            "{'x': 0.265625, 'y': 0.234375}\n",
            "{'x': 0.203125, 'y': 0.1875}\n",
            "{'x': 0.765625, 'y': 0.609375}\n",
            "{'x': 0.890625, 'y': 0.6875}\n",
            "{'x': 0.015625, 'y': 0.0}\n",
            "{'x': 0.53125, 'y': 0.484375}\n",
            "{'x': 0.34375, 'y': 0.3125}\n",
            "{'x': 0.171875, 'y': 0.15625}\n",
            "{'x': 0.59375, 'y': 0.515625}\n",
            "{'x': 0.15625, 'y': 0.140625}\n",
            "{'x': 0.40625, 'y': 0.375}\n",
            "{'x': 0.609375, 'y': 0.515625}\n",
            "{'x': 0.546875, 'y': 0.484375}\n",
            "{'x': 0.5, 'y': 0.46875}\n",
            "{'x': 0.375, 'y': 0.34375}\n",
            "{'x': 0.984375, 'y': 0.734375}\n",
            "{'x': 0.921875, 'y': 0.703125}\n",
            "{'x': 0.578125, 'y': 0.5}\n",
            "{'x': 0.78125, 'y': 0.625}\n",
            "{'x': 0.96875, 'y': 0.71875}\n",
            "{'x': 0.078125, 'y': 0.0625}\n",
            "{'x': 0.140625, 'y': 0.125}\n",
            "{'x': 0.71875, 'y': 0.578125}\n",
            "{'x': 0.09375, 'y': 0.078125}\n",
            "{'x': 0.3125, 'y': 0.28125}\n",
            "{'x': 0.703125, 'y': 0.578125}\n",
            "{'x': 0.109375, 'y': 0.09375}\n",
            "{'x': 0.1875, 'y': 0.171875}\n",
            "{'x': 0.0625, 'y': 0.046875}\n",
            "{'x': 0.125, 'y': 0.109375}\n",
            "{'x': 0.296875, 'y': 0.265625}\n",
            "{'x': 0.734375, 'y': 0.59375}\n",
            "{'x': 0.046875, 'y': 0.03125}\n",
            "{'x': 0.421875, 'y': 0.390625}\n",
            "{'x': 0.8125, 'y': 0.640625}\n",
            "{'x': 0.65625, 'y': 0.546875}\n",
            "{'x': 0.515625, 'y': 0.46875}\n",
            "{'x': 0.453125, 'y': 0.421875}\n",
            "{'x': 0.84375, 'y': 0.65625}\n",
            "{'x': 0.25, 'y': 0.234375}\n",
            "{'x': 0.03125, 'y': 0.015625}\n",
            "{'x': 0.46875, 'y': 0.4375}\n",
            "{'x': 0.328125, 'y': 0.296875}\n",
            "{'x': 0.828125, 'y': 0.640625}\n",
            "{'x': 0.5625, 'y': 0.5}\n",
            "{'x': 0.671875, 'y': 0.5625}\n",
            "{'x': 0.6875, 'y': 0.5625}\n",
            "{'x': 0.0, 'y': 0.0}\n",
            "{'x': 0.390625, 'y': 0.359375}\n",
            "{'x': 0.875, 'y': 0.671875}\n",
            "{'x': 0.640625, 'y': 0.546875}\n",
            "{'x': 0.625, 'y': 0.53125}\n",
            "{'x': 0.859375, 'y': 0.65625}\n",
            "{'x': 0.21875, 'y': 0.203125}\n",
            "{'x': 0.4375, 'y': 0.40625}\n",
            "{'x': 0.359375, 'y': 0.328125}\n",
            "{'x': 0.90625, 'y': 0.6875}\n"
          ]
        }
      ],
      "source": [
        "job = execute(quantum_program)\n",
        "results = job.result()\n",
        "parsed_counts = results[0].value.parsed_counts\n",
        "for sampled_state in parsed_counts: print(sampled_state.state)"
      ]
    },
    {
      "cell_type": "code",
      "execution_count": 33,
      "metadata": {
        "colab": {
          "base_uri": "https://localhost:8080/"
        },
        "id": "3KaEsSA8cDTP",
        "outputId": "b8757282-d601-4a62-b63c-2b213fd8e1f9"
      },
      "outputs": [
        {
          "output_type": "stream",
          "name": "stdout",
          "text": [
            "[{'x': 0.796875, 'y': 0.625}, {'x': 0.75, 'y': 0.609375}, {'x': 0.28125, 'y': 0.25}, {'x': 0.9375, 'y': 0.703125}, {'x': 0.234375, 'y': 0.21875}, {'x': 0.953125, 'y': 0.71875}, {'x': 0.484375, 'y': 0.453125}, {'x': 0.265625, 'y': 0.234375}, {'x': 0.203125, 'y': 0.1875}, {'x': 0.765625, 'y': 0.609375}, {'x': 0.890625, 'y': 0.6875}, {'x': 0.015625, 'y': 0.0}, {'x': 0.53125, 'y': 0.484375}, {'x': 0.34375, 'y': 0.3125}, {'x': 0.171875, 'y': 0.15625}, {'x': 0.59375, 'y': 0.515625}, {'x': 0.15625, 'y': 0.140625}, {'x': 0.40625, 'y': 0.375}, {'x': 0.609375, 'y': 0.515625}, {'x': 0.546875, 'y': 0.484375}, {'x': 0.5, 'y': 0.46875}, {'x': 0.375, 'y': 0.34375}, {'x': 0.984375, 'y': 0.734375}, {'x': 0.921875, 'y': 0.703125}, {'x': 0.578125, 'y': 0.5}, {'x': 0.78125, 'y': 0.625}, {'x': 0.96875, 'y': 0.71875}, {'x': 0.078125, 'y': 0.0625}, {'x': 0.140625, 'y': 0.125}, {'x': 0.71875, 'y': 0.578125}, {'x': 0.09375, 'y': 0.078125}, {'x': 0.3125, 'y': 0.28125}, {'x': 0.703125, 'y': 0.578125}, {'x': 0.109375, 'y': 0.09375}, {'x': 0.1875, 'y': 0.171875}, {'x': 0.0625, 'y': 0.046875}, {'x': 0.125, 'y': 0.109375}, {'x': 0.296875, 'y': 0.265625}, {'x': 0.734375, 'y': 0.59375}, {'x': 0.046875, 'y': 0.03125}, {'x': 0.421875, 'y': 0.390625}, {'x': 0.8125, 'y': 0.640625}, {'x': 0.65625, 'y': 0.546875}, {'x': 0.515625, 'y': 0.46875}, {'x': 0.453125, 'y': 0.421875}, {'x': 0.84375, 'y': 0.65625}, {'x': 0.25, 'y': 0.234375}, {'x': 0.03125, 'y': 0.015625}, {'x': 0.46875, 'y': 0.4375}, {'x': 0.328125, 'y': 0.296875}, {'x': 0.828125, 'y': 0.640625}, {'x': 0.5625, 'y': 0.5}, {'x': 0.671875, 'y': 0.5625}, {'x': 0.6875, 'y': 0.5625}, {'x': 0.0, 'y': 0.0}, {'x': 0.390625, 'y': 0.359375}, {'x': 0.875, 'y': 0.671875}, {'x': 0.640625, 'y': 0.546875}, {'x': 0.625, 'y': 0.53125}, {'x': 0.859375, 'y': 0.65625}, {'x': 0.21875, 'y': 0.203125}, {'x': 0.4375, 'y': 0.40625}, {'x': 0.359375, 'y': 0.328125}, {'x': 0.90625, 'y': 0.6875}]\n"
          ]
        }
      ],
      "source": [
        "state_list = []\n",
        "for sampled_state in parsed_counts:\n",
        "    state_list.append(sampled_state.state)\n",
        "print(state_list)"
      ]
    },
    {
      "cell_type": "code",
      "execution_count": 34,
      "metadata": {
        "colab": {
          "base_uri": "https://localhost:8080/",
          "height": 509
        },
        "id": "b_haORa3cDTQ",
        "outputId": "777c5ca3-5e41-492e-d5f2-d3efa7e4575d"
      },
      "outputs": [
        {
          "output_type": "stream",
          "name": "stdout",
          "text": [
            "Maximum distance:  0.03968551675565146\n"
          ]
        },
        {
          "output_type": "display_data",
          "data": {
            "text/plain": [
              "<Figure size 640x480 with 1 Axes>"
            ],
            "image/png": "[encoded data removed]"
          },
          "metadata": {}
        }
      ],
      "source": [
        "import numpy as np\n",
        "import matplotlib.pyplot as plt\n",
        "from numpy import tanh\n",
        "from scipy.optimize import curve_fit\n",
        "\n",
        "# Given data points from the image\n",
        "data_points = state_list\n",
        "# Extract x and y values\n",
        "x_values = np.array([point['x'] for point in data_points])\n",
        "y_values = np.array([point['y'] for point in data_points])\n",
        "\n",
        "tanh_values = tanh(x_values)\n",
        "\n",
        "# Calculate the maximum distance of y to tanh(x)\n",
        "max_distance = np.max(np.abs(y_values - tanh_values))\n",
        "\n",
        "# Plot the given points\n",
        "plt.scatter(x_values, y_values, label='Given Points', color='red')\n",
        "\n",
        "# Plot tanh(x) as a continuous curve\n",
        "x_continuous = np.linspace(0, 1, 500)\n",
        "y_continuous = tanh(x_continuous)\n",
        "plt.plot(x_continuous, y_continuous, label='tanh(x)', color='blue')\n",
        "\n",
        "# Add labels and legend\n",
        "plt.xlabel('x')\n",
        "plt.ylabel('y')\n",
        "plt.title('Given Points vs. tanh(x)')\n",
        "plt.legend()\n",
        "\n",
        "# Output the maximum distance\n",
        "print(\"Maximum distance: \" , max_distance)\n",
        "plt.show()"
      ]
    },
    {
      "cell_type": "code",
      "execution_count": 24,
      "metadata": {
        "id": "lRRtP0D8cDTQ"
      },
      "outputs": [],
      "source": [
        "from classiq import QFunc, QParam, QNum, Output\n",
        "\n",
        "@QFunc\n",
        "def compute_tanh_low_precision(precision: QParam[int],    # The precision of x and tanh_x\n",
        "                 x: QNum,\n",
        "                 controller: QNum,                   # A quantum variable that represents numbers\n",
        "                 tanh_x: Output[QNum]       # The output of the function\n",
        "                 ):\n",
        "    a = [0.9375, 0.5625]\n",
        "    b = [0.0, 0.1875]\n",
        "    allocate_num(precision, False, precision, tanh_x)\n",
        "    control_logic(a,b,controller,x,tanh_x)\n",
        "\n",
        "# def compute_tanh_high_precision(precision: QParam[int],    # The precision of x and tanh_x\n",
        "#                  x: QNum,                   # A quantum variable that represents numbers\n",
        "#                  tanh_x: Output[QNum]       # The output of the function\n",
        "#                  ):"
      ]
    },
    {
      "cell_type": "code",
      "execution_count": 25,
      "metadata": {
        "id": "ntJ-QTfdcDTR"
      },
      "outputs": [],
      "source": [
        "# working comput_tanh_linear_one\n",
        "@QFunc\n",
        "def compute_tanh(precision: QParam[int],    # The precision of x and tanh_x\n",
        "                 x: QNum,\n",
        "                 tanh_x: Output[QNum]       # The output of the function\n",
        "                 ):\n",
        "    a = 0.8178710937532978\n",
        "    b = 0\n",
        "    linear_func(a,b, x, tanh_x)"
      ]
    },
    {
      "cell_type": "code",
      "execution_count": null,
      "metadata": {
        "id": "Frvv5A41cDTR"
      },
      "outputs": [],
      "source": [
        "# Do not change this part of the code !\n",
        "\n",
        "@QFunc\n",
        "def main(controller: Output[QNum], x: Output[QNum],y: Output[QNum]):\n",
        "\n",
        "    # A quantum variable which represents numbers is initialized\n",
        "    allocate_num(num_qubits=precision,\n",
        "                is_signed=False,\n",
        "                fraction_digits=precision,\n",
        "                out=x)\n",
        "\n",
        "    allocate_num(1,False,0,controller)\n",
        "    H(controller)\n",
        "\n",
        "    # Initalizing over all possible values of the quantum number with the hadamard transform\n",
        "    hadamard_transform(x)\n",
        "\n",
        "    # Computing your compute_tanh function\n",
        "    compute_tanh_low_precision(precision,x,controller,y)\n",
        "\n",
        "# Generating the model itslef\n",
        "qmod = create_model(main)"
      ]
    },
    {
      "cell_type": "code",
      "execution_count": null,
      "metadata": {
        "id": "SAOnVaEfcDTR"
      },
      "outputs": [],
      "source": [
        "# Do not change this part of the code !\n",
        "# Your precision value\n",
        "precision = 7\n",
        "@QFunc\n",
        "def main(x: Output[QNum],y: Output[QNum]):\n",
        "\n",
        "    # A quantum variable which represents numbers is initialized\n",
        "    allocate_num(num_qubits=precision,\n",
        "                is_signed=False,\n",
        "                fraction_digits=precision,\n",
        "                out=x)\n",
        "\n",
        "    # Initalizing over all possible values of the quantum number with the hadamard transform\n",
        "    hadamard_transform(x)\n",
        "\n",
        "    # Computing your compute_tanh function\n",
        "    compute_tanh_linear(precision,x,y)\n",
        "\n",
        "# Generating the model itslef\n",
        "qmod = create_model(main)"
      ]
    },
    {
      "cell_type": "code",
      "execution_count": null,
      "metadata": {
        "id": "AKDYB1MPcDTR"
      },
      "outputs": [],
      "source": []
    },
    {
      "cell_type": "code",
      "execution_count": null,
      "metadata": {
        "id": "OQXtAyS1cDTR"
      },
      "outputs": [],
      "source": [
        "show(quantum_program)"
      ]
    },
    {
      "cell_type": "code",
      "execution_count": null,
      "metadata": {
        "id": "goJDoimWcDTS"
      },
      "outputs": [],
      "source": []
    },
    {
      "cell_type": "markdown",
      "metadata": {
        "id": "ioCSUTcRcDTS"
      },
      "source": [
        "### Saving the Files - What You Need To Submit"
      ]
    },
    {
      "cell_type": "markdown",
      "metadata": {
        "id": "GV8JbJescDTS"
      },
      "source": [
        "First, define the precisions of your solutions:"
      ]
    },
    {
      "cell_type": "code",
      "execution_count": 39,
      "metadata": {
        "id": "xEgYCpPQcDTS"
      },
      "outputs": [],
      "source": [
        "#Precision values stages 1&2 - You need to enter these values in Google Form submission\n",
        "precision_value_stage_1 = 7\n",
        "precision_value_stage_2 = 31"
      ]
    },
    {
      "cell_type": "markdown",
      "metadata": {
        "id": "EWlEsbvicDTS"
      },
      "source": [
        "Then we can create adapted quantum models for the two stages according to the corresponding precisions and constraints:"
      ]
    },
    {
      "cell_type": "code",
      "execution_count": 40,
      "metadata": {
        "id": "dyKeDdEPcDTS"
      },
      "outputs": [],
      "source": [
        "def get_model_with_new_precision(qmod, new_precision):\n",
        "    '''\n",
        "    The function adapts the precision value in the qmod according to the new precision value given.\n",
        "    '''\n",
        "\n",
        "    @QFunc\n",
        "    def compute_tanh(\n",
        "        precision: QParam[int],\n",
        "        x: QNum,\n",
        "        tanh_x: Output[QNum],\n",
        "    ):\n",
        "        # dummy implementation\n",
        "        allocate_num(precision, False, precision, tanh_x)\n",
        "\n",
        "    @QFunc\n",
        "    def main(x: Output[QNum], y: Output[QNum]):\n",
        "        allocate_num(new_precision, False, new_precision, x)\n",
        "        hadamard_transform(x)\n",
        "        compute_tanh(new_precision, x, y)\n",
        "\n",
        "    new_main = main.create_model().main_func\n",
        "    parsed_qmod = Model_Designer.parse_obj(json.loads(qmod))\n",
        "    new_model = Model_Designer(functions=[f for f in parsed_qmod.functions if f.name != \"main\"] + [new_main])\n",
        "    return new_model.get_model()\n",
        "\n",
        "\n",
        "# Adapting the qmod for the relevant constraints - stage 1\n",
        "max_width_stage_1 = 30\n",
        "max_depth_stage_1 = 3000\n",
        "synthesis_timeout_sec_stage_1 = 90\n",
        "qmod_stage_1 = get_model_with_new_precision(qmod,precision_value_stage_1)\n",
        "qmod_stage_1 = set_constraints(qmod_stage_1,Constraints(max_width=max_width_stage_1,max_depth=max_depth_stage_1))\n",
        "qmod_stage_1 = set_preferences(qmod_stage_1, Preferences(timeout_seconds=synthesis_timeout_sec_stage_1))\n",
        "\n",
        "# Adapting the qmod for the relevant constraints - stage 2\n",
        "max_width_stage_2 = 100\n",
        "max_depth_stage_2 = 30000\n",
        "synthesis_timeout_sec_stage_2 = 180\n",
        "optimization_param = \"depth\"\n",
        "qmod_stage_2 = get_model_with_new_precision(qmod,precision_value_stage_2)\n",
        "qmod_stage_2 = set_constraints(qmod_stage_2,Constraints(max_width=max_width_stage_2,max_depth=max_depth_stage_2,optimization_parameter=optimization_param))\n",
        "qmod_stage_2 = set_preferences(qmod_stage_2, Preferences(timeout_seconds=synthesis_timeout_sec_stage_2))\n"
      ]
    },
    {
      "cell_type": "markdown",
      "metadata": {
        "id": "GUg6XTQ1cDTT"
      },
      "source": [
        "Now in order to save the deliverables files, you should adapt the following file names including their locations (no need to include the file extensions, i.e. do not add `.qprog`/`.qmod` at the end):"
      ]
    },
    {
      "cell_type": "code",
      "execution_count": 45,
      "metadata": {
        "id": "7dp4a0FDcDTT"
      },
      "outputs": [],
      "source": [
        "# Files names (no extensions needed!)\n",
        "file_name_qmod = 'qmod_pieces' #TODO change to your file_name\n",
        "file_name_qprog_stage_1 = 'qprog_stage_1_pieces' #TODO change to your file_name\n",
        "file_name_qprog_stage_2 = 'qprog_stage_2_pieces' #TODO change to your file_name"
      ]
    },
    {
      "cell_type": "markdown",
      "metadata": {
        "id": "NqpF30UvcDTT"
      },
      "source": [
        "Run the following cell to save the relevant deliverables:\n",
        "1. Your model (`.qmod` file)\n",
        "2. Your quantum program for stage 1 with the corresponding precision (`.qprog` file)\n",
        "3. Your quantum program for stage 2 with the corresponding precision (`.qprog` file)"
      ]
    },
    {
      "cell_type": "code",
      "execution_count": 48,
      "metadata": {
        "id": "r7f-WshXcDTT"
      },
      "outputs": [],
      "source": [
        "def save_new_file(program_to_save,file_name):\n",
        "    '''\n",
        "    A simple function that saves your code as a text file\n",
        "    '''\n",
        "    file = open(file_name,\"w\")\n",
        "    file.write(program_to_save)\n",
        "    file.close()\n",
        "\n",
        "\n",
        "# Saving the qmod\n",
        "# save_new_file(qmod, file_name_qmod+'.qmod') # You need to submit this file\n",
        "\n",
        "# Save the qprof of stage 1\n",
        "qprog_stage_1 = synthesize(qmod_stage_1)\n",
        "# save_new_file(qprog_stage_1, file_name_qprog_stage_1+'.qprog') # You need to submit this file\n",
        "\n",
        "# Save the qprog of stage 2\n",
        "qprog_stage_2 = synthesize(qmod_stage_2)\n",
        "# save_new_file(qprog_stage_2, file_name_qprog_stage_2+'.qprog') # You need to submit this file"
      ]
    },
    {
      "cell_type": "markdown",
      "metadata": {
        "id": "-9CNQQrvcDTU"
      },
      "source": [
        "It's worth checking out your quantum programs by viewing them:"
      ]
    },
    {
      "cell_type": "code",
      "execution_count": null,
      "metadata": {
        "id": "l88iKwuocDTU"
      },
      "outputs": [],
      "source": [
        "show(qprog_stage_1)"
      ]
    },
    {
      "cell_type": "code",
      "execution_count": 44,
      "metadata": {
        "colab": {
          "base_uri": "https://localhost:8080/",
          "height": 192
        },
        "id": "SdftAkGScDTU",
        "outputId": "050de2ce-9913-43a2-b4c3-04bddeb95b30"
      },
      "outputs": [
        {
          "output_type": "error",
          "ename": "NameError",
          "evalue": "name 'qprog_stage_2' is not defined",
          "traceback": [
            "\u001b[0;31m---------------------------------------------------------------------------\u001b[0m",
            "\u001b[0;31mNameError\u001b[0m                                 Traceback (most recent call last)",
            "\u001b[0;32m<ipython-input-44-b424f7f0672f>\u001b[0m in \u001b[0;36m<cell line: 1>\u001b[0;34m()\u001b[0m\n\u001b[0;32m----> 1\u001b[0;31m \u001b[0mshow\u001b[0m\u001b[0;34m(\u001b[0m\u001b[0mqprog_stage_2\u001b[0m\u001b[0;34m)\u001b[0m\u001b[0;34m\u001b[0m\u001b[0;34m\u001b[0m\u001b[0m\n\u001b[0m",
            "\u001b[0;31mNameError\u001b[0m: name 'qprog_stage_2' is not defined"
          ]
        }
      ],
      "source": [
        "show(qprog_stage_2)"
      ]
    },
    {
      "cell_type": "markdown",
      "metadata": {
        "id": "1fpUA54ocDTU"
      },
      "source": [
        "### Evaluate Your Results"
      ]
    },
    {
      "cell_type": "markdown",
      "metadata": {
        "id": "AiY8C_71cDTU"
      },
      "source": [
        "Evaluate the results of stage 1:\n",
        "\n",
        "**NOTE!**\n",
        "- With the `aer_simulator` you can simulate up to 25 qubits circuit\n",
        "- With the `nvidia_state_vector_simulator` you can simulate up to 30 qubits circuit, but you can use it up to 10 times, so make sure to use it wisely"
      ]
    },
    {
      "cell_type": "code",
      "execution_count": 46,
      "metadata": {
        "colab": {
          "base_uri": "https://localhost:8080/"
        },
        "id": "RHr9yaKKcDTU",
        "outputId": "e608bbd4-9180-4521-efb4-c21526353d9b"
      },
      "outputs": [
        {
          "output_type": "stream",
          "name": "stdout",
          "text": [
            "Synthesizing quantum program stage 1 with the execution preferences\n",
            "Synthesized circuit width: 26, depth: 445\n",
            "Executing the quantum program\n",
            "{'x': 0.0, 'y': 0.0}\n",
            "{'x': 0.0078125, 'y': 0.0}\n",
            "{'x': 0.015625, 'y': 0.0078125}\n",
            "{'x': 0.0234375, 'y': 0.015625}\n",
            "{'x': 0.03125, 'y': 0.0234375}\n",
            "{'x': 0.0390625, 'y': 0.03125}\n",
            "{'x': 0.046875, 'y': 0.0390625}\n",
            "{'x': 0.0546875, 'y': 0.046875}\n",
            "{'x': 0.0625, 'y': 0.0546875}\n",
            "{'x': 0.0703125, 'y': 0.0625}\n",
            "{'x': 0.078125, 'y': 0.0703125}\n",
            "{'x': 0.0859375, 'y': 0.078125}\n",
            "{'x': 0.09375, 'y': 0.0859375}\n",
            "{'x': 0.1015625, 'y': 0.09375}\n",
            "{'x': 0.109375, 'y': 0.1015625}\n",
            "{'x': 0.1171875, 'y': 0.109375}\n",
            "{'x': 0.125, 'y': 0.1171875}\n",
            "{'x': 0.1328125, 'y': 0.1171875}\n",
            "{'x': 0.140625, 'y': 0.125}\n",
            "{'x': 0.1484375, 'y': 0.1328125}\n",
            "{'x': 0.15625, 'y': 0.140625}\n",
            "{'x': 0.1640625, 'y': 0.1484375}\n",
            "{'x': 0.171875, 'y': 0.15625}\n",
            "{'x': 0.1796875, 'y': 0.1640625}\n",
            "{'x': 0.1875, 'y': 0.171875}\n",
            "{'x': 0.1953125, 'y': 0.1796875}\n",
            "{'x': 0.203125, 'y': 0.1875}\n",
            "{'x': 0.2109375, 'y': 0.1953125}\n",
            "{'x': 0.21875, 'y': 0.203125}\n",
            "{'x': 0.2265625, 'y': 0.2109375}\n",
            "{'x': 0.234375, 'y': 0.21875}\n",
            "{'x': 0.2421875, 'y': 0.2265625}\n",
            "{'x': 0.25, 'y': 0.234375}\n",
            "{'x': 0.2578125, 'y': 0.234375}\n",
            "{'x': 0.265625, 'y': 0.2421875}\n",
            "{'x': 0.2734375, 'y': 0.25}\n",
            "{'x': 0.28125, 'y': 0.2578125}\n",
            "{'x': 0.2890625, 'y': 0.265625}\n",
            "{'x': 0.296875, 'y': 0.2734375}\n",
            "{'x': 0.3046875, 'y': 0.28125}\n",
            "{'x': 0.3125, 'y': 0.2890625}\n",
            "{'x': 0.3203125, 'y': 0.296875}\n",
            "{'x': 0.328125, 'y': 0.3046875}\n",
            "{'x': 0.3359375, 'y': 0.3125}\n",
            "{'x': 0.34375, 'y': 0.3203125}\n",
            "{'x': 0.3515625, 'y': 0.328125}\n",
            "{'x': 0.359375, 'y': 0.3359375}\n",
            "{'x': 0.3671875, 'y': 0.34375}\n",
            "{'x': 0.375, 'y': 0.3515625}\n",
            "{'x': 0.3828125, 'y': 0.3515625}\n",
            "{'x': 0.390625, 'y': 0.359375}\n",
            "{'x': 0.3984375, 'y': 0.3671875}\n",
            "{'x': 0.40625, 'y': 0.375}\n",
            "{'x': 0.4140625, 'y': 0.3828125}\n",
            "{'x': 0.421875, 'y': 0.390625}\n",
            "{'x': 0.4296875, 'y': 0.3984375}\n",
            "{'x': 0.4375, 'y': 0.40625}\n",
            "{'x': 0.4453125, 'y': 0.4140625}\n",
            "{'x': 0.453125, 'y': 0.421875}\n",
            "{'x': 0.4609375, 'y': 0.4296875}\n",
            "{'x': 0.46875, 'y': 0.4375}\n",
            "{'x': 0.4765625, 'y': 0.4453125}\n",
            "{'x': 0.484375, 'y': 0.453125}\n",
            "{'x': 0.4921875, 'y': 0.4609375}\n",
            "{'x': 0.5, 'y': 0.46875}\n",
            "{'x': 0.5078125, 'y': 0.46875}\n",
            "{'x': 0.515625, 'y': 0.4765625}\n",
            "{'x': 0.5234375, 'y': 0.4765625}\n",
            "{'x': 0.53125, 'y': 0.484375}\n",
            "{'x': 0.5390625, 'y': 0.484375}\n",
            "{'x': 0.546875, 'y': 0.4921875}\n",
            "{'x': 0.5546875, 'y': 0.4921875}\n",
            "{'x': 0.5625, 'y': 0.5}\n",
            "{'x': 0.5703125, 'y': 0.5078125}\n",
            "{'x': 0.578125, 'y': 0.5078125}\n",
            "{'x': 0.5859375, 'y': 0.515625}\n",
            "{'x': 0.59375, 'y': 0.515625}\n",
            "{'x': 0.6015625, 'y': 0.5234375}\n",
            "{'x': 0.609375, 'y': 0.5234375}\n",
            "{'x': 0.6171875, 'y': 0.53125}\n",
            "{'x': 0.625, 'y': 0.5390625}\n",
            "{'x': 0.6328125, 'y': 0.5390625}\n",
            "{'x': 0.640625, 'y': 0.546875}\n",
            "{'x': 0.6484375, 'y': 0.546875}\n",
            "{'x': 0.65625, 'y': 0.5546875}\n",
            "{'x': 0.6640625, 'y': 0.5546875}\n",
            "{'x': 0.671875, 'y': 0.5625}\n",
            "{'x': 0.6796875, 'y': 0.5625}\n",
            "{'x': 0.6875, 'y': 0.5703125}\n",
            "{'x': 0.6953125, 'y': 0.578125}\n",
            "{'x': 0.703125, 'y': 0.578125}\n",
            "{'x': 0.7109375, 'y': 0.5859375}\n",
            "{'x': 0.71875, 'y': 0.5859375}\n",
            "{'x': 0.7265625, 'y': 0.59375}\n",
            "{'x': 0.734375, 'y': 0.59375}\n",
            "{'x': 0.7421875, 'y': 0.6015625}\n",
            "{'x': 0.75, 'y': 0.609375}\n",
            "{'x': 0.7578125, 'y': 0.609375}\n",
            "{'x': 0.765625, 'y': 0.6171875}\n",
            "{'x': 0.7734375, 'y': 0.6171875}\n",
            "{'x': 0.78125, 'y': 0.625}\n",
            "{'x': 0.7890625, 'y': 0.625}\n",
            "{'x': 0.796875, 'y': 0.6328125}\n",
            "{'x': 0.8046875, 'y': 0.6328125}\n",
            "{'x': 0.8125, 'y': 0.640625}\n",
            "{'x': 0.8203125, 'y': 0.6484375}\n",
            "{'x': 0.828125, 'y': 0.6484375}\n",
            "{'x': 0.8359375, 'y': 0.65625}\n",
            "{'x': 0.84375, 'y': 0.65625}\n",
            "{'x': 0.8515625, 'y': 0.6640625}\n",
            "{'x': 0.859375, 'y': 0.6640625}\n",
            "{'x': 0.8671875, 'y': 0.671875}\n",
            "{'x': 0.875, 'y': 0.6796875}\n",
            "{'x': 0.8828125, 'y': 0.6796875}\n",
            "{'x': 0.890625, 'y': 0.6875}\n",
            "{'x': 0.8984375, 'y': 0.6875}\n",
            "{'x': 0.90625, 'y': 0.6953125}\n",
            "{'x': 0.9140625, 'y': 0.6953125}\n",
            "{'x': 0.921875, 'y': 0.703125}\n",
            "{'x': 0.9296875, 'y': 0.703125}\n",
            "{'x': 0.9375, 'y': 0.7109375}\n",
            "{'x': 0.9453125, 'y': 0.71875}\n",
            "{'x': 0.953125, 'y': 0.71875}\n",
            "{'x': 0.9609375, 'y': 0.7265625}\n",
            "{'x': 0.96875, 'y': 0.7265625}\n",
            "{'x': 0.9765625, 'y': 0.734375}\n",
            "{'x': 0.984375, 'y': 0.734375}\n",
            "{'x': 0.9921875, 'y': 0.7421875}\n",
            "Results of stage 1 \n",
            " Max distance =  0.037886027660236854\n"
          ]
        }
      ],
      "source": [
        "\n",
        "def evaluate_score_stage_1(results, user_input_precision):\n",
        "\n",
        "    # The array of values the code is compared against\n",
        "    calculated_precision = 11\n",
        "    domain = np.arange(0, 1, 1/ 2**calculated_precision)\n",
        "    expected_y = np.tanh(domain)\n",
        "\n",
        "    # Sort the results according to the values of x\n",
        "    parsed_counts = sorted(results[0].value.parsed_counts, key=lambda x: x.state[\"x\"])\n",
        "    for tuple in parsed_counts: print(tuple.state)\n",
        "\n",
        "    # Form the relevant dictionary with values of 'x' and 'y'\n",
        "    results_dict = {s.state['x']: s.state['y'] for s in parsed_counts}\n",
        "\n",
        "    # Verify all strings were sampled, also no superpositions\n",
        "    assert len(results_dict) == 2 ** user_input_precision\n",
        "\n",
        "    # Comparing to the users results\n",
        "    measured_y = []\n",
        "    for x_val in domain:\n",
        "        # The y value that is assesd at x_val is the y value of the first x the user has such that x<x_val\n",
        "        x_val_floored = int(x_val * (2**user_input_precision)) / (2**user_input_precision)\n",
        "        measured_y.append(results_dict[x_val_floored])\n",
        "\n",
        "    # The metric asseses what's the largest distancce between the expected value and the measured value, the smallest the better\n",
        "    max_distance = np.max(np.abs(expected_y - np.array(measured_y)))\n",
        "    return max_distance\n",
        "\n",
        "def print_depth_width(quantum_program):\n",
        "    generated_circuit = GeneratedCircuit.parse_obj(json.loads(quantum_program))\n",
        "    print(f\"Synthesized circuit width: {generated_circuit.data.width}, depth: {generated_circuit.transpiled_circuit.depth}\")\n",
        "\n",
        "# Execution parameters\n",
        "num_shots = 1000\n",
        "backend_name = \"nvidia_state_vector_simulator\" # \"aer_simulator\", \"nvidia_state_vector_simulator\"\n",
        "\n",
        "qmod_stage_1 = set_execution_preferences(qmod_stage_1,\n",
        "                                        ExecutionPreferences(\n",
        "                                            num_shots=1000,  # The number of shots is a hyperparameter of the algorithm\n",
        "                                            backend_preferences=ClassiqBackendPreferences(\n",
        "                                                                    backend_name=backend_name))) #aer_simulator / nvidia_state_vector_simulator\n",
        "print('Synthesizing quantum program stage 1 with the execution preferences')\n",
        "qprog_stage_1 = synthesize(qmod_stage_1)\n",
        "print_depth_width(qprog_stage_1)\n",
        "print('Executing the quantum program')\n",
        "results = execute(qprog_stage_1).result()\n",
        "print(\"Results of stage 1 \\n Max distance = \", evaluate_score_stage_1(results, precision_value_stage_1))"
      ]
    },
    {
      "cell_type": "markdown",
      "metadata": {
        "id": "85KAa6Y4cDTV"
      },
      "source": [
        "Evluate the results of stage 2:"
      ]
    },
    {
      "cell_type": "code",
      "execution_count": 49,
      "metadata": {
        "colab": {
          "base_uri": "https://localhost:8080/"
        },
        "id": "DC1fhGavcDTV",
        "outputId": "255dbeb1-e2d7-4aec-ccdd-dc86b84dd454"
      },
      "outputs": [
        {
          "output_type": "stream",
          "name": "stdout",
          "text": [
            "\n",
            "Results of stage 2 \n",
            "Precision = 31, Circuit depth = 1431\n"
          ]
        }
      ],
      "source": [
        "generated_circuit = GeneratedCircuit.parse_obj(json.loads(qprog_stage_2))\n",
        "print(f'\\nResults of stage 2 \\nPrecision = {precision_value_stage_2}, Circuit depth = {generated_circuit.transpiled_circuit.depth}')"
      ]
    },
    {
      "cell_type": "code",
      "source": [
        "print_depth_width(qprog_stage_2)"
      ],
      "metadata": {
        "colab": {
          "base_uri": "https://localhost:8080/"
        },
        "id": "KjR586l2hN3_",
        "outputId": "e29d119d-c936-4c2b-bcfc-ed82f1e7e28f"
      },
      "execution_count": 50,
      "outputs": [
        {
          "output_type": "stream",
          "name": "stdout",
          "text": [
            "Synthesized circuit width: 98, depth: 1431\n"
          ]
        }
      ]
    },
    {
      "cell_type": "markdown",
      "metadata": {
        "id": "EL-h6g-dcDTV"
      },
      "source": [
        "## Cheat Sheet"
      ]
    },
    {
      "cell_type": "markdown",
      "metadata": {
        "id": "dwE1dfrvcDTV"
      },
      "source": []
    }
  ],
  "metadata": {
    "kernelspec": {
      "display_name": "Python 3.9.7 ('classiq_0_36_1')",
      "language": "python",
      "name": "python3"
    },
    "language_info": {
      "codemirror_mode": {
        "name": "ipython",
        "version": 3
      },
      "file_extension": ".py",
      "mimetype": "text/x-python",
      "name": "python",
      "nbconvert_exporter": "python",
      "pygments_lexer": "ipython3",
      "version": "3.11.4"
    },
    "orig_nbformat": 4,
    "vscode": {
      "interpreter": {
        "hash": "39f2fb914d68d910e6a44db3a048977f45af665714e1ed570fe3896698105d3f"
      }
    },
    "colab": {
      "provenance": []
    }
  },
  "nbformat": 4,
  "nbformat_minor": 0
}